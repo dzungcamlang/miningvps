{
  "nbformat": 4,
  "nbformat_minor": 0,
  "metadata": {
    "colab": {
      "name": "Untitled0.ipynb",
      "private_outputs": true,
      "provenance": [],
      "collapsed_sections": []
    },
    "kernelspec": {
      "name": "python3",
      "display_name": "Python 3"
    },
    "accelerator": "GPU"
  },
  "cells": [
    {
      "cell_type": "code",
      "metadata": {
        "cellView": "form",
        "id": "qCiTZvFGcd7a"
      },
      "source": [
        "#@title Cek runtime TIPE GPU\n",
        "import pathlib, stat, shutil, urllib.request, subprocess, getpass, time, tempfile\n",
        "def _get_gpu_name():\n",
        "  r = subprocess.run([\"nvidia-smi\", \"--query-gpu=name\", \"--format=csv,noheader\"], stdout = subprocess.PIPE, universal_newlines = True)\n",
        "  if r.returncode != 0:\n",
        "    return None\n",
        "  return r.stdout.strip()\n",
        "\n",
        "def _check_gpu_available():\n",
        "  gpu_name = _get_gpu_name()\n",
        "  if gpu_name == None:\n",
        "    print(\"This is not a runtime with GPU\")\n",
        "  else:\n",
        "   return gpu_name\n",
        "  return True\n",
        "print(_check_gpu_available())"
      ],
      "execution_count": null,
      "outputs": []
    },
    {
      "cell_type": "code",
      "metadata": {
        "id": "KE-LwA4-LwnS",
        "cellView": "form"
      },
      "source": [
        "#@title Script chrome RDP\n",
        "\n",
        "\n",
        "#Download ngrok\n",
        "! wget https://raw.githubusercontent.com/Linuxinet/rdp/main/vps.sh\n",
        "! chmod +x vps.sh\n",
        "! ./vps.sh"
      ],
      "execution_count": null,
      "outputs": []
    },
    {
      "cell_type": "code",
      "metadata": {
        "cellView": "form",
        "id": "MZQPlQ01eZUg"
      },
      "source": [
        "#@title Script Google Colab Keep Running 12 Hours\r\n",
        "function ClickConnect() {\r\n",
        "  console.log('Working')\r\n",
        "  document\r\n",
        "    .querySelector('#top-toolbar > colab-connect-button')\r\n",
        "    .shadowRoot.querySelector('#connect')\r\n",
        "    .click()\r\n",
        "}\r\n",
        "setInterval(ClickConnect, 60000)"
      ],
      "execution_count": null,
      "outputs": []
    }
  ]
}